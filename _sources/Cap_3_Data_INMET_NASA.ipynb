{
 "cells": [
  {
   "cell_type": "markdown",
   "metadata": {},
   "source": [
    "## **Comportamiento Radiación Solar INMET**"
   ]
  },
  {
   "cell_type": "code",
   "execution_count": null,
   "metadata": {},
   "outputs": [],
   "source": [
    "fig_INMET = px.line(\n",
    "    df_INMET,\n",
    "    x='datetime',\n",
    "    y='RADIACAO_GLOBAL',\n",
    "    title='Radiación Global (KJ/m²) por Hora INMET (2019 a Febrero 2025)',\n",
    "    labels={\n",
    "        'datetime': 'Fecha y Hora',\n",
    "        'RADIACAO_GLOBAL': 'Radiación (KJ/m²)'\n",
    "    }\n",
    ")\n",
    "fig_INMET.update_layout(template='plotly_white', width=1100, height=500)\n",
    "fig_INMET.show()"
   ]
  },
  {
   "cell_type": "markdown",
   "metadata": {},
   "source": [
    "## **Comportamiento Radiación Solar NASA**"
   ]
  },
  {
   "cell_type": "code",
   "execution_count": null,
   "metadata": {},
   "outputs": [],
   "source": [
    "fig_nasa = px.line(\n",
    "    df_NASA,\n",
    "    x='datetime',\n",
    "    y='ALLSKY_SFC_SW_DWN',\n",
    "    title='Radiación Horaria NASA (2019-2025)',\n",
    "    labels={'datetime': 'Fecha y hora', 'ALLSKY_SFC_SW_DWN': 'Radiación (W/m²)'}\n",
    ")\n",
    "fig_nasa.update_layout(template='plotly_white', width=1100, height=500)\n",
    "fig_nasa.show()"
   ]
  },
  {
   "cell_type": "markdown",
   "metadata": {},
   "source": [
    "## **Comportamiento de Radiacioón Solar INMET vs NASA**"
   ]
  },
  {
   "cell_type": "code",
   "execution_count": null,
   "metadata": {},
   "outputs": [],
   "source": [
    "df_INMET['datetime'] = pd.to_datetime(df_INMET['datetime'].dt.floor('H'))\n",
    "df_NASA['datetime'] = pd.to_datetime(df_NASA['datetime'].dt.floor('H'))\n",
    "\n",
    "df_INMET['RADIACAO GLOBAL (KJ/m²)'] = df_INMET['RADIACAO_GLOBAL'].fillna(0)\n",
    "\n",
    "df_comparado = pd.merge(\n",
    "    df_INMET[['datetime', 'RADIACAO_GLOBAL']],\n",
    "    df_NASA[['datetime', 'ALLSKY_SFC_SW_DWN']],\n",
    "    on='datetime',\n",
    "    how='inner'\n",
    ")\n",
    "print(df_comparado.shape)"
   ]
  },
  {
   "cell_type": "code",
   "execution_count": null,
   "metadata": {
    "scrolled": true
   },
   "outputs": [],
   "source": [
    "fig = go.Figure()\n",
    "fig.add_trace(go.Scatter(\n",
    "    x=df_comparado['datetime'],\n",
    "    y=df_comparado['RADIACAO_GLOBAL'],\n",
    "    mode='lines',\n",
    "    name='INMET',\n",
    "    line=dict(color='blue'),\n",
    "    opacity=0.7\n",
    "))\n",
    "fig.add_trace(go.Scatter(\n",
    "    x=df_comparado['datetime'],\n",
    "    y=df_comparado['ALLSKY_SFC_SW_DWN'],\n",
    "    mode='lines',\n",
    "    name='NASA',\n",
    "    line=dict(color='orange'),\n",
    "    opacity=0.7\n",
    "))\n",
    "fig.update_layout(\n",
    "    title='Evolución de Radiación Horaria - INMET vs. NASA (2019-2025)',\n",
    "    xaxis_title='Fecha y Hora',\n",
    "    yaxis_title='Radiación (KJ/m²)',\n",
    "    legend_title='Fuente',\n",
    "    template='plotly_white',\n",
    "    height=500,\n",
    "    width=1100\n",
    ")\n",
    "fig.show()"
   ]
  },
  {
   "cell_type": "markdown",
   "metadata": {},
   "source": [
    "## **Distribución de Radiación Solar INMET vs NASA**"
   ]
  },
  {
   "cell_type": "markdown",
   "metadata": {},
   "source": [
    "Las distribuciones de radiación solar provenientes de las fuentes **INMET** (`RADIACAO_GLOBAL`) y **NASA** (`ALLSKY_SFC_SW_DWN`) presentan comportamientos claramente *no normales*, como se observa en los histogramas. Ambas variables muestran una **alta frecuencia de valores cercanos a cero**, posiblemente asociada a registros nocturnos o condiciones de nubosidad extrema, seguidos de distribuciones **asimétricas y multimodales**.\n",
    "\n",
    "En particular, la distribución de INMET evidencia una dispersión más amplia con mayor presencia de valores altos (hasta **4000 KJ/m²**), mientras que la distribución de NASA, medida en **W/m²**, refleja una estructura más suave y densa en rangos medios, aunque también con múltiples picos.\n",
    "\n",
    "Estos patrones justifican el uso de **pruebas no paramétricas** y técnicas de modelado que *no asuman normalidad* en los datos, como la prueba de **Kolmogórov-Smirnov** o modelos basados en aprendizaje automático flexible.\n"
   ]
  },
  {
   "cell_type": "code",
   "execution_count": null,
   "metadata": {},
   "outputs": [],
   "source": [
    "df_comparado['RADIACAO_GLOBAL'] = df_comparado['RADIACAO_GLOBAL'].fillna(0)\n",
    "rad1 = df_comparado['RADIACAO_GLOBAL']\n",
    "rad1 = rad1[rad1 > 0]\n",
    "\n",
    "rad2 = df_comparado['ALLSKY_SFC_SW_DWN']\n",
    "rad2 = rad2[rad2 > 0]\n",
    "fig, axes = plt.subplots(1, 2, figsize=(16, 5))\n",
    "\n",
    "sns.histplot(rad1, bins=60, kde=True, ax=axes[0], color='blue')\n",
    "axes[0].set_title('RADIACAO_GLOBAL (filtrado > 0)')\n",
    "axes[0].set_xlabel('Radiación (KJ/m²)')\n",
    "axes[0].set_ylabel('Frecuencia')\n",
    "axes[0].grid(True)\n",
    "\n",
    "sns.histplot(rad2, bins=60, kde=True, ax=axes[1], color='orange')\n",
    "axes[1].set_title('ALLSKY_SFC_SW_DWN (filtrado > 0)')\n",
    "axes[1].set_xlabel('Radiación (W/m²)')\n",
    "axes[1].set_ylabel('Frecuencia')\n",
    "axes[1].grid(True)\n",
    "plt.suptitle(\"Distribuciones de Radiación Solar \", fontsize=20)\n",
    "plt.tight_layout()\n",
    "plt.show()"
   ]
  },
  {
   "cell_type": "markdown",
   "metadata": {},
   "source": [
    "## **Pruebas de Normalidad de Radiacioón Solar INMET vs NASA**"
   ]
  },
  {
   "cell_type": "markdown",
   "metadata": {},
   "source": [
    "La prueba de **Jarque-Bera** es un método estadístico utilizado para evaluar la **normalidad de una distribución de datos** a partir de sus momentos estadísticos, específicamente la **asimetría** (*skewness*) y la **curtosis**. La lógica de esta prueba se basa en comparar los valores empíricos de la asimetría y la curtosis con los valores esperados bajo una distribución normal (es decir, \\( S = 0 \\) y \\( K = 3 \\)). Si las desviaciones son grandes, el estadístico de Jarque-Bera será elevado y su correspondiente valor \\( p \\) indicará **rechazo de la hipótesis nula**, sugiriendo que los datos **no provienen de una distribución normal**.\n"
   ]
  },
  {
   "cell_type": "markdown",
   "metadata": {},
   "source": [
    "### **Fórmula de la prueba de Jarque-Bera**\n",
    "\n",
    "La prueba de **Jarque-Bera** permite evaluar si una muestra sigue una distribución normal, basándose en los valores de asimetría (skewness) y curtosis (kurtosis). Su fórmula es la siguiente:\n",
    "\n",
    "$$\n",
    "JB = \\frac{n}{6} \\left( S^2 + \\frac{(K - 3)^2}{4} \\right)\n",
    "$$\n",
    "\n",
    "donde:\n",
    "\n",
    "- \\( JB \\) es el estadístico de la prueba de Jarque-Bera  \n",
    "- \\( n \\) es el tamaño de la muestra  \n",
    "- \\( S \\) es el coeficiente de **asimetría** (skewness)  \n",
    "- \\( K \\) es el coeficiente de **curtosis**  \n",
    "- Para una distribución normal, se espera que \\( S = 0 \\) y \\( K = 3 \\)\n",
    "\n",
    "**Criterio de decisión:**\n",
    "\n",
    "- \\( H_0 \\): los datos provienen de una distribución normal  \n",
    "- Si el valor p es menor que 0.05 → **se rechaza \\( H_0 \\)** (los datos **no son normales**)  \n",
    "- Si el valor p es mayor que 0.05 → **no se rechaza \\( H_0 \\)** (los datos **pueden considerarse normales**)\n"
   ]
  },
  {
   "cell_type": "code",
   "execution_count": null,
   "metadata": {},
   "outputs": [],
   "source": [
    "stat_inmet, p_inmet = jarque_bera(df_comparado['RADIACAO_GLOBAL'])\n",
    "stat_nasa, p_nasa = jarque_bera(df_comparado['ALLSKY_SFC_SW_DWN'])\n",
    "print(f\" Jarque-Bera - INMET\")\n",
    "print(f\"  Estadístico: {stat_inmet:.4f} | p-valor: {p_inmet:.4e} → {'Distribución normal' if p_inmet > 0.05 else 'NO normal'}\")\n",
    "print(f\"\\n Jarque-Bera - NASA\")\n",
    "print(f\"  Estadístico: {stat_nasa:.4f} | p-valor: {p_nasa:.4e} → {'Distribución normal' if p_nasa > 0.05 else 'NO normal'}\")\n"
   ]
  },
  {
   "cell_type": "markdown",
   "metadata": {},
   "source": [
    "### **Prueba de Kolmogórov-Smirnov para Dos Muestras**"
   ]
  },
  {
   "cell_type": "markdown",
   "metadata": {},
   "source": [
    "Luego de aplicar la prueba de **Jarque-Bera** y confirmar que las distribuciones de radiación solar (INMET y NASA) **no siguen una distribución normal**, se hace necesario emplear métodos estadísticos **no paramétricos** para comparar ambas fuentes de datos.\n",
    "\n",
    "En este contexto, la **prueba de Kolmogórov–Smirnov (KS)** de dos muestras resulta relevante, ya que permite evaluar si ambas distribuciones **provienen de la misma población**, sin asumir normalidad ni homogeneidad de varianzas. Esta prueba compara las funciones de distribución empírica (ECDF) de cada conjunto de datos y mide la **mayor diferencia absoluta entre ellas**, lo que la convierte en una herramienta robusta para detectar discrepancias en forma, posición o dispersión entre las distribuciones.\n",
    "\n",
    "Aplicar esta prueba permite establecer con mayor objetividad si las diferencias observadas entre las mediciones de radiación solar de INMET y NASA son **estadísticamente significativas** desde una perspectiva no paramétrica.\n"
   ]
  },
  {
   "cell_type": "markdown",
   "metadata": {},
   "source": [
    "La **prueba de Kolmogórov-Smirnov (KS)** de dos muestras es una prueba **no paramétrica** utilizada para comparar si **dos distribuciones de datos continuos** provienen de la misma población.\n",
    "\n",
    "**Hipótesis:**\n",
    "\n",
    "- $H_0$: Ambas muestras provienen de la misma distribución.\n",
    "- $H_1$: Las muestras provienen de distribuciones diferentes.\n",
    "\n",
    "**Estadístico de Prueba:**\n",
    "\n",
    "La fórmula del estadístico de KS es:\n",
    "\n",
    "$$\n",
    "D = \\sup_x |F_1(x) - F_2(x)|\n",
    "$$\n",
    "\n",
    "Donde:\n",
    "\n",
    "- $F_1(x)$ y $F_2(x)$ son las funciones de distribución empíricas (ECDF) de cada muestra.\n",
    "- $\\sup$ representa el máximo valor de la diferencia absoluta entre las dos ECDFs."
   ]
  },
  {
   "cell_type": "code",
   "execution_count": null,
   "metadata": {},
   "outputs": [],
   "source": [
    "ks_stat, p_value = ks_2samp(\n",
    "   df_comparado['RADIACAO_GLOBAL'],\n",
    "    df_comparado['ALLSKY_SFC_SW_DWN']\n",
    ")\n",
    "print(f\"KS Statistic: {ks_stat:.4f}\")\n",
    "print(f\"Valor p: {p_value:.4f}\")\n",
    "\n",
    "if p_value < 0.05:\n",
    "    print(\"Las distribuciones de radiación entre INMET y NASA son estadísticamente diferentes.\")\n",
    "else:\n",
    "    print(\"No se detectan diferencias significativas entre las distribuciones de radiación.\")\n"
   ]
  }
 ],
 "metadata": {
  "kernelspec": {
   "display_name": "Python 3 (ipykernel)",
   "language": "python",
   "name": "python3"
  },
  "language_info": {
   "codemirror_mode": {
    "name": "ipython",
    "version": 3
   },
   "file_extension": ".py",
   "mimetype": "text/x-python",
   "name": "python",
   "nbconvert_exporter": "python",
   "pygments_lexer": "ipython3",
   "version": "3.9.21"
  }
 },
 "nbformat": 4,
 "nbformat_minor": 4
}
