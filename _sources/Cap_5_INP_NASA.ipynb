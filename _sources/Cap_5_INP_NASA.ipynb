{
 "cells": [
  {
   "cell_type": "markdown",
   "metadata": {},
   "source": [
    "## **Técnicas de Imputación Datos NASA**"
   ]
  },
  {
   "cell_type": "markdown",
   "metadata": {},
   "source": [
    "#### **Imputación usando promedio estacional NASA**"
   ]
  },
  {
   "cell_type": "code",
   "execution_count": null,
   "metadata": {},
   "outputs": [],
   "source": [
    "df_comparado['ALLSKY_SFC_SW_DWN_IMPUTACION'] = df_comparado['ALLSKY_SFC_SW_DWN'].copy()\n",
    "df_comparado['ALLSKY_SFC_SW_DWN_IMPUTACION'] = df_comparado['ALLSKY_SFC_SW_DWN_IMPUTACION'].replace(-999.0, pd.NA)\n",
    "df_comparado['datetime'] = pd.to_datetime(df_comparado['datetime'])\n",
    "df_comparado['dayofyear'] = df_comparado['datetime'].dt.dayofyear\n",
    "df_comparado['hour'] = df_comparado['datetime'].dt.hour\n",
    "tabla_promedios_nasa = df_comparado.groupby(['dayofyear', 'hour'])['ALLSKY_SFC_SW_DWN_IMPUTACION'].mean()\n",
    "def imputar_estacional_nasa(row):\n",
    "    if pd.isna(row['ALLSKY_SFC_SW_DWN_IMPUTACION']):\n",
    "        return tabla_promedios_nasa.get((int(row['dayofyear']), int(row['hour'])), 0)\n",
    "    else:\n",
    "        return row['ALLSKY_SFC_SW_DWN_IMPUTACION']\n",
    "df_comparado['ALLSKY_SFC_SW_DWN_ESTACIONAL'] = df_comparado.apply(imputar_estacional_nasa, axis=1)\n",
    "df_comparado.tail(10)"
   ]
  },
  {
   "cell_type": "markdown",
   "metadata": {},
   "source": [
    "#### **Evolución de Radiación Solar Original vs Imputada (Promedio Estacional-NASA)**"
   ]
  },
  {
   "cell_type": "code",
   "execution_count": null,
   "metadata": {
    "scrolled": true
   },
   "outputs": [],
   "source": [
    "fig = go.Figure()\n",
    "fig.add_trace(go.Scatter(\n",
    "    x=df_comparado['datetime'],\n",
    "    y=df_comparado['ALLSKY_SFC_SW_DWN_ESTACIONAL'],\n",
    "    mode='lines',\n",
    "    name='INMET-IMPUTADA',\n",
    "    line=dict(color='blue'),\n",
    "    opacity=0.7\n",
    "))\n",
    "fig.add_trace(go.Scatter(\n",
    "    x=df_comparado['datetime'],\n",
    "    y=df_comparado['ALLSKY_SFC_SW_DWN'],\n",
    "    mode='lines',\n",
    "    name='INMET-SIN IMPUTAR',\n",
    "    line=dict(color='orange'),\n",
    "    opacity=0.7\n",
    "))\n",
    "fig.update_layout(\n",
    "    title='Evolución de Radiación NASA - (Imputación Promedio Estacional) (2019-2025)',\n",
    "    xaxis_title='Fecha y Hora',\n",
    "    yaxis_title='Radiación (KJ/m²)',\n",
    "    legend_title='Fuente',\n",
    "    template='plotly_white',\n",
    "    height=500,\n",
    "    width=1100\n",
    ")\n",
    "fig.show()"
   ]
  },
  {
   "cell_type": "markdown",
   "metadata": {},
   "source": [
    "#### **Distribución de Radiación Solar Original vs Imputada (Promedio Estacional-NASA)**"
   ]
  },
  {
   "cell_type": "code",
   "execution_count": null,
   "metadata": {},
   "outputs": [],
   "source": [
    "rad_orig = df_comparado['ALLSKY_SFC_SW_DWN'][df_comparado['ALLSKY_SFC_SW_DWN'] > 0]\n",
    "rad_imp = df_comparado['ALLSKY_SFC_SW_DWN_ESTACIONAL'][df_comparado['ALLSKY_SFC_SW_DWN_ESTACIONAL'] > 0]\n",
    "\n",
    "fig, axes = plt.subplots(1, 2, figsize=(16, 5), sharey=True)\n",
    "\n",
    "sns.histplot(rad_orig, bins=60, kde=True, color='royalblue', ax=axes[0])\n",
    "axes[0].set_title('ANTES')\n",
    "axes[0].set_xlabel('Radiación (KJ/m²)')\n",
    "axes[0].set_ylabel('Frecuencia')\n",
    "axes[0].grid(True)\n",
    "\n",
    "sns.histplot(rad_imp, bins=60, kde=True, color='darkorange', ax=axes[1])\n",
    "axes[1].set_title('DESPUES')\n",
    "axes[1].set_xlabel('Radiación (KJ/m²)')\n",
    "axes[1].set_ylabel('')\n",
    "axes[1].grid(True)\n",
    "\n",
    "fig.suptitle('Distribuciones de Radiación Solar INMET ((Imputación Promedio Estacional)) (> 0) - Antes y Después de Imputación', fontsize=16)\n",
    "plt.tight_layout()\n",
    "plt.show()"
   ]
  },
  {
   "cell_type": "markdown",
   "metadata": {},
   "source": [
    "#### **Evaluación de Radiación Solar Original vs Imputada (Promedio Estacional-NASA)**"
   ]
  },
  {
   "cell_type": "code",
   "execution_count": null,
   "metadata": {},
   "outputs": [],
   "source": [
    "rad_orig = df_comparado['ALLSKY_SFC_SW_DWN'][df_comparado['ALLSKY_SFC_SW_DWN'] > 0]\n",
    "rad_imp = df_comparado['ALLSKY_SFC_SW_DWN_ESTACIONAL'][df_comparado['ALLSKY_SFC_SW_DWN_ESTACIONAL'] > 0]\n",
    "stat_ks, p_ks = ks_2samp(rad_orig, rad_imp)\n",
    "print(\"Kolmogorov-Smirnov Test (Distribución Original vs Imputada):\")\n",
    "print(f\"Estadístico KS: {stat_ks:.4f}\")\n",
    "print(f\"p-valor: {p_ks:.4e}\")\n",
    "if p_ks > 0.05:\n",
    "    print(\"No se rechaza H0 → Las distribuciones son estadísticamente similares.\")\n",
    "else:\n",
    "    print(\"Se rechaza H0 → Las distribuciones son diferentes.\")"
   ]
  },
  {
   "cell_type": "markdown",
   "metadata": {},
   "source": [
    "## **Visualización de Radiación Imputadas INMET-NASA**"
   ]
  },
  {
   "cell_type": "code",
   "execution_count": null,
   "metadata": {},
   "outputs": [],
   "source": [
    "fig = go.Figure()\n",
    "fig.add_trace(go.Scatter(\n",
    "    x=df_comparado['datetime'],\n",
    "    y=df_comparado['RADIACAO_GLOBAL_IMPUTADA'],\n",
    "    mode='lines',\n",
    "    name='INMET',\n",
    "    line=dict(color='blue'),\n",
    "    opacity=0.7\n",
    "))\n",
    "fig.add_trace(go.Scatter(\n",
    "    x=df_comparado['datetime'],\n",
    "    y=df_comparado['ALLSKY_SFC_SW_DWN_ESTACIONAL'],\n",
    "    mode='lines',\n",
    "    name='NASA',\n",
    "    line=dict(color='orange'),\n",
    "    opacity=0.7\n",
    "))\n",
    "fig.update_layout(\n",
    "    title='Evolución de Radiación Horaria - INMET vs. NASA (2019-2025)',\n",
    "    xaxis_title='Fecha y Hora',\n",
    "    yaxis_title='Radiación (KJ/m²)',\n",
    "    legend_title='Fuente',\n",
    "    template='plotly_white',\n",
    "    height=500,\n",
    "    width=1100\n",
    ")\n",
    "fig.show()"
   ]
  },
  {
   "cell_type": "markdown",
   "metadata": {},
   "source": [
    "### **Evaluación de Radiación Solar Imputadas INMET vs NASA**"
   ]
  },
  {
   "cell_type": "code",
   "execution_count": null,
   "metadata": {},
   "outputs": [],
   "source": [
    "rad_orig = df_comparado['RADIACAO_GLOBAL_IMPUTADA'][df_comparado['RADIACAO_GLOBAL_IMPUTADA'] > 0]\n",
    "rad_imp = df_comparado['ALLSKY_SFC_SW_DWN_ESTACIONAL'][df_comparado['ALLSKY_SFC_SW_DWN_ESTACIONAL'] > 0]\n",
    "\n",
    "fig, axes = plt.subplots(1, 2, figsize=(16, 5), sharey=True)\n",
    "\n",
    "sns.histplot(rad_orig, bins=60, kde=True, color='royalblue', ax=axes[0])\n",
    "axes[0].set_title('INMET (> 0)')\n",
    "axes[0].set_xlabel('Radiación (KJ/m²)')\n",
    "axes[0].set_ylabel('Frecuencia')\n",
    "axes[0].grid(True)\n",
    "\n",
    "sns.histplot(rad_imp, bins=60, kde=True, color='darkorange', ax=axes[1])\n",
    "axes[1].set_title('NASA (> 0)')\n",
    "axes[1].set_xlabel('Radiación (KJ/m²)')\n",
    "axes[1].set_ylabel('')\n",
    "axes[1].grid(True)\n",
    "\n",
    "fig.suptitle('Distribuciones de Radiación Solar INMET - NASA', fontsize=16)\n",
    "plt.tight_layout()\n",
    "plt.show()"
   ]
  },
  {
   "cell_type": "markdown",
   "metadata": {},
   "source": [
    "### **Evaluación de Radiación Solar Imputadas INMET vs NASA**"
   ]
  },
  {
   "cell_type": "code",
   "execution_count": null,
   "metadata": {},
   "outputs": [],
   "source": [
    "rad_orig = df_comparado['RADIACAO_GLOBAL_IMPUTADA'][df_comparado['RADIACAO_GLOBAL_IMPUTADA'] > 0]\n",
    "rad_imp = df_comparado['ALLSKY_SFC_SW_DWN_ESTACIONAL'][df_comparado['ALLSKY_SFC_SW_DWN_ESTACIONAL'] > 0]\n",
    "stat_ks, p_ks = ks_2samp(rad_orig, rad_imp)\n",
    "print(\"Kolmogorov-Smirnov Test (Distribución Original vs Imputada):\")\n",
    "print(f\"Estadístico KS: {stat_ks:.4f}\")\n",
    "print(f\"p-valor: {p_ks:.4e}\")\n",
    "if p_ks > 0.05:\n",
    "    print(\"No se rechaza H0 → Las distribuciones son estadísticamente similares.\")\n",
    "else:\n",
    "    print(\"Se rechaza H0 → Las distribuciones son diferentes.\")"
   ]
  }
 ],
 "metadata": {
  "kernelspec": {
   "display_name": "Python 3 (ipykernel)",
   "language": "python",
   "name": "python3"
  },
  "language_info": {
   "codemirror_mode": {
    "name": "ipython",
    "version": 3
   },
   "file_extension": ".py",
   "mimetype": "text/x-python",
   "name": "python",
   "nbconvert_exporter": "python",
   "pygments_lexer": "ipython3",
   "version": "3.9.21"
  }
 },
 "nbformat": 4,
 "nbformat_minor": 4
}
