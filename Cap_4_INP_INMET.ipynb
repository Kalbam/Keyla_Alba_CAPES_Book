{
 "cells": [
  {
   "cell_type": "markdown",
   "metadata": {},
   "source": [
    "## **Técnicas de Imputación Datos INMET**"
   ]
  },
  {
   "cell_type": "markdown",
   "metadata": {},
   "source": [
    "#### **Regla de Imputación Estacional**\n",
    "\n",
    "Supongamos que tienes una serie de datos:\n",
    "\n",
    "- $R_i$: valor de radiación en la observación $i$\n",
    "- $d_i$: día del año de la observación $i$ (de 1 a 366)\n",
    "- $h_i$: hora del día de la observación $i$ (de 0 a 23)\n",
    "\n",
    "Para cada observación con valor faltante $R_i = 0$, la imputación es:\n",
    "\n",
    "$$\n",
    "\\hat{R}_i = \\frac{1}{n_{d_i,h_i}} \\sum_{j \\in G(d_i,h_i)} R_j\n",
    "$$\n",
    "\n",
    "**Donde:**\n",
    "\n",
    "- $\\hat{R}_i$ es el valor imputado para la observación $i$\n",
    "- $G(d_i, h_i)$ es el conjunto de observaciones $j$ donde $R_j > 0$, y el día y la hora coinciden con $d_i, h_i$\n",
    "- $n_{d_i,h_i}$ es el número de valores disponibles en ese grupo\n",
    "\n",
    "> Si no existen datos en ese grupo:\n",
    "\n",
    "$$\n",
    "\\hat{R}_i = 0\n",
    "$$\n",
    "\n",
    "Fuentes: https://www.sciencedirect.com/science/article/pii/S2213138821007785?ref=pdf_download&fr=RR-2&rr=9266d1c478c4a4cd \n",
    "\n",
    " https://www.mdpi.com/2071-1050/15/13/10609 \n",
    "\n",
    "_Identificar el patrón típico de radiación para cada hora del día usando valores históricos disponibles del mismo día y mes, y luego aplicar ese valor como estimación cuando hay datos faltantes_"
   ]
  },
  {
   "cell_type": "markdown",
   "metadata": {},
   "source": [
    "#### **Imputación datos INMET por Regla de Imputación Estacional**"
   ]
  },
  {
   "cell_type": "code",
   "execution_count": null,
   "metadata": {},
   "outputs": [],
   "source": [
    "df_comparado['RADIACAO_GLOBAL_IMPUTADA'] = df_comparado['RADIACAO_GLOBAL'].replace(0, pd.NA)\n",
    "df_comparado['datetime'] = pd.to_datetime(df_comparado['datetime'])\n",
    "df_comparado['dayofyear'] = df_comparado['datetime'].dt.dayofyear\n",
    "df_comparado['hour'] = df_comparado['datetime'].dt.hour\n",
    "\n",
    "tabla_promedios = df_comparado.groupby(['dayofyear', 'hour'])['RADIACAO_GLOBAL_IMPUTADA'].mean()\n",
    "def imputar_estacional(row):\n",
    "    if pd.isna(row['RADIACAO_GLOBAL_IMPUTADA']):\n",
    "        return tabla_promedios.get((int(row['dayofyear']), int(row['hour'])), 0)\n",
    "    else:\n",
    "        return row['RADIACAO_GLOBAL_IMPUTADA']\n",
    "df_comparado['RADIACAO_GLOBAL_IMPUTADA'] = df_comparado.apply(imputar_estacional, axis=1)\n",
    "df_comparado['RADIACAO_GLOBAL_IMPUTADA'] = df_comparado['RADIACAO_GLOBAL_IMPUTADA'].fillna(0)\n",
    "print(df_comparado.shape)\n",
    "df_comparado.tail(20)"
   ]
  },
  {
   "cell_type": "markdown",
   "metadata": {},
   "source": [
    "#### **Evolución de Radiación Solar Original vs Imputada (Promedio Estacional)**"
   ]
  },
  {
   "cell_type": "code",
   "execution_count": null,
   "metadata": {},
   "outputs": [],
   "source": [
    "fig = go.Figure()\n",
    "fig.add_trace(go.Scatter(\n",
    "    x=df_comparado['datetime'],\n",
    "    y=df_comparado['RADIACAO_GLOBAL_IMPUTADA'],\n",
    "    mode='lines',\n",
    "    name='INMET-IMPUTADA',\n",
    "    line=dict(color='orange'),\n",
    "    opacity=0.7\n",
    "))\n",
    "fig.add_trace(go.Scatter(\n",
    "    x=df_comparado['datetime'],\n",
    "    y=df_comparado['RADIACAO_GLOBAL'],\n",
    "    mode='lines',\n",
    "    name='INMET-SIN IMPUTAR',\n",
    "    line=dict(color='blue'),\n",
    "    opacity=0.7\n",
    "))\n",
    "fig.update_layout(\n",
    "    title='Evolución de Radiación INMET - Imputación Promedio Estacional (2019-2025)',\n",
    "    xaxis_title='Fecha y Hora',\n",
    "    yaxis_title='Radiación (KJ/m²)',\n",
    "    legend_title='Fuente',\n",
    "    template='plotly_white',\n",
    "    height=500,\n",
    "    width=1100\n",
    ")\n",
    "fig.show()"
   ]
  },
  {
   "cell_type": "markdown",
   "metadata": {},
   "source": [
    "#### **Distribución de Antes y Despues de la Imputación Promedio Estacional**\n",
    "\n",
    "La comparación gráfica de las distribuciones antes y después de la imputación muestra que ambas series presentan estructuras similares en términos generales, aunque con ligeros ajustes en la densidad y forma de la distribución. Sin embargo, para verificar si estas diferencias son significativas desde el punto de vista estadístico, se recurre al valor \\( p \\) de la prueba KS."
   ]
  },
  {
   "cell_type": "code",
   "execution_count": null,
   "metadata": {},
   "outputs": [],
   "source": [
    "rad_orig = df_comparado['RADIACAO_GLOBAL'][df_comparado['RADIACAO_GLOBAL'] > 0]\n",
    "rad_imp = df_comparado['RADIACAO_GLOBAL_IMPUTADA'][df_comparado['RADIACAO_GLOBAL_IMPUTADA'] > 0]\n",
    "\n",
    "fig, axes = plt.subplots(1, 2, figsize=(16, 5), sharey=True)\n",
    "\n",
    "sns.histplot(rad_orig, bins=60, kde=True, color='royalblue', ax=axes[0])\n",
    "axes[0].set_title('RADIACAO_GLOBAL (> 0)')\n",
    "axes[0].set_xlabel('Radiación (KJ/m²)')\n",
    "axes[0].set_ylabel('Frecuencia')\n",
    "axes[0].grid(True)\n",
    "\n",
    "sns.histplot(rad_imp, bins=60, kde=True, color='darkorange', ax=axes[1])\n",
    "axes[1].set_title('RADIACAO_GLOBAL_IMPUTADA (> 0)')\n",
    "axes[1].set_xlabel('Radiación (KJ/m²)')\n",
    "axes[1].set_ylabel('')\n",
    "axes[1].grid(True)\n",
    "\n",
    "fig.suptitle('Distribuciones de Radiación Solar INMET (Imputación Promedio Estacional) (> 0) - Antes y Después ', fontsize=16)\n",
    "plt.tight_layout()\n",
    "plt.show()"
   ]
  },
  {
   "cell_type": "markdown",
   "metadata": {},
   "source": [
    "#### **Evaluación de Antes y Despues de la Imputación Promedio Estacional**\n",
    "\n",
    "Para validar si esta imputación mantiene la integridad estadística de la serie original, se utilizó la **prueba de Kolmogórov–Smirnov (KS)**, la cual permite comparar si dos muestras provienen de la misma distribución sin asumir normalidad.\n",
    "\n",
    "- Si el valor \\( p \\) es **mayor que 0.05**, **no se rechaza la hipótesis nula**, lo que indica que la distribución imputada puede considerarse **estadísticamente equivalente** a la original.  \n",
    "- Por el contrario, si el valor \\( p \\) es **menor o igual que 0.05**, se concluye que la imputación **modificó significativamente** la distribución original.\n",
    "\n",
    "Este enfoque permite **validar objetivamente la calidad de la imputación**, asegurando que el tratamiento de valores faltantes no haya introducido sesgos ni distorsionado la naturaleza estadística del conjunto de datos."
   ]
  },
  {
   "cell_type": "code",
   "execution_count": null,
   "metadata": {},
   "outputs": [],
   "source": [
    "rad_orig = df_comparado['RADIACAO_GLOBAL'][df_comparado['RADIACAO_GLOBAL'] > 0]\n",
    "rad_imp = df_comparado['RADIACAO_GLOBAL_IMPUTADA'][df_comparado['RADIACAO_GLOBAL_IMPUTADA'] > 0]\n",
    "stat_ks, p_ks = ks_2samp(rad_orig, rad_imp)\n",
    "print(\"Kolmogorov-Smirnov Test (Distribución Original vs Imputada):\")\n",
    "print(f\"Estadístico KS: {stat_ks:.4f}\")\n",
    "print(f\"p-valor: {p_ks:.4e}\")\n",
    "if p_ks > 0.05:\n",
    "    print(\"No se rechaza H0 → Las distribuciones son estadísticamente similares.\")\n",
    "else:\n",
    "    print(\"Se rechaza H0 → Las distribuciones son diferentes.\")"
   ]
  }
 ],
 "metadata": {
  "kernelspec": {
   "display_name": "Python 3 (ipykernel)",
   "language": "python",
   "name": "python3"
  },
  "language_info": {
   "codemirror_mode": {
    "name": "ipython",
    "version": 3
   },
   "file_extension": ".py",
   "mimetype": "text/x-python",
   "name": "python",
   "nbconvert_exporter": "python",
   "pygments_lexer": "ipython3",
   "version": "3.9.21"
  }
 },
 "nbformat": 4,
 "nbformat_minor": 4
}
