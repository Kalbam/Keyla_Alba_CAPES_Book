{
 "cells": [
  {
   "cell_type": "markdown",
   "metadata": {},
   "source": [
    "# **Comparativo Data-INMET-NASA**"
   ]
  },
  {
   "cell_type": "markdown",
   "metadata": {},
   "source": [
    "\n",
    "**Paraíba**\n",
    "https://www.sciencedirect.com/science/article/pii/S0960148123010972?casa_token=LPT3_PeJJU4AAAAA:IcXIBInVyw6JKZkY-qY-jH5dktSKOrRWwCGwb5Po-OVRg1pMc7fe7BJJN1Q3sk-xN5QTq44kQQ \n",
    "\n",
    "**Fuentes:**\n",
    "\n",
    "* https://portal.inmet.gov.br/dadoshistoricos \n",
    "\n",
    "* https://power.larc.nasa.gov/data-access-viewer/\n",
    "\n",
    "**INMET** mide la radiación solar total como __RADIAÇÃO GLOBAL__ en unidades de kJ/m².\n",
    "\n",
    "\n",
    "**NASA POWER** mide la radiación solar total como __All Sky Surface Shortwave Downward Irradiance\" en kWh/m²/día.__\n",
    "\n",
    "**DATA** del 2029-2025 (28 febrero), dado que a la fecha de hoy 17 de marzo, solo se contaba con el registro en el INMET a esa fecha.\n"
   ]
  },
  {
   "cell_type": "markdown",
   "metadata": {},
   "source": [
    "## **Librerías**"
   ]
  },
  {
   "cell_type": "code",
   "execution_count": null,
   "metadata": {},
   "outputs": [],
   "source": [
    "import os\n",
    "import warnings\n",
    "import pandas as pd\n",
    "import seaborn as sns\n",
    "import requests\n",
    "import plotly.express as px\n",
    "import matplotlib.pyplot as plt\n",
    "import matplotlib.image as mpimg\n",
    "import plotly.graph_objects as go\n",
    "from IPython.display import display\n",
    "from scipy.stats import ks_2samp\n",
    "# from TSPackages import *\n",
    "from scipy.stats import jarque_bera\n",
    "from scipy.stats import ks_2samp\n",
    "from scipy.stats import kurtosis, skew\n",
    "from statsmodels.graphics.tsaplots import plot_acf, plot_pacf\n",
    "warnings.filterwarnings('ignore')\n",
    "from pandas.plotting import autocorrelation_plot"
   ]
  },
  {
   "cell_type": "markdown",
   "metadata": {},
   "source": [
    "## **Data-NASA**"
   ]
  },
  {
   "cell_type": "code",
   "execution_count": null,
   "metadata": {},
   "outputs": [],
   "source": [
    "file_path = r\"C:\\Users\\Keyla Alba\\OneDrive - Universidad del Norte\\Doctorado (Ciencias)\\Move La America\\EDA\\Datos\\POWER_Point_Hourly_20190101_20250228_019d00S_051d00W_LST.csv\"\n",
    "with open(file_path, \"r\", encoding=\"utf-8\") as file:\n",
    "    lines = file.readlines()\n",
    "start_line = next(i for i, line in enumerate(lines) if \"YEAR\" in line)\n",
    "df_NASA = pd.read_csv(file_path, skiprows=start_line, encoding=\"utf-8\")\n",
    "df_NASA['datetime'] = pd.to_datetime({\n",
    "    'year': df_NASA['YEAR'],\n",
    "    'month': df_NASA['MO'],\n",
    "    'day': df_NASA['DY'],\n",
    "    'hour': df_NASA['HR']\n",
    "})\n",
    "print(df_NASA.shape)"
   ]
  },
  {
   "cell_type": "markdown",
   "metadata": {},
   "source": [
    "## **Data-INMET**"
   ]
  },
  {
   "cell_type": "code",
   "execution_count": null,
   "metadata": {},
   "outputs": [],
   "source": [
    "file_path = [\n",
    "    r\"C:\\Users\\Keyla Alba\\OneDrive - Universidad del Norte\\Doctorado (Ciencias)\\Move La America\\EDA\\Datos\\INMET_CO_MS_A710_PARANAIBA_01-01-2019_A_31-12-2019.CSV\",\n",
    "    r\"C:\\Users\\Keyla Alba\\OneDrive - Universidad del Norte\\Doctorado (Ciencias)\\Move La America\\EDA\\Datos\\INMET_CO_MS_A710_PARANAIBA_01-01-2020_A_31-12-2020.CSV\",\n",
    "    r\"C:\\Users\\Keyla Alba\\OneDrive - Universidad del Norte\\Doctorado (Ciencias)\\Move La America\\EDA\\Datos\\INMET_CO_MS_A710_PARANAIBA_01-01-2021_A_31-12-2021.CSV\",\n",
    "    r\"C:\\Users\\Keyla Alba\\OneDrive - Universidad del Norte\\Doctorado (Ciencias)\\Move La America\\EDA\\Datos\\INMET_CO_MS_A710_PARANAIBA_01-01-2022_A_31-12-2022.CSV\",\n",
    "    r\"C:\\Users\\Keyla Alba\\OneDrive - Universidad del Norte\\Doctorado (Ciencias)\\Move La America\\EDA\\Datos\\INMET_CO_MS_A710_PARANAIBA_01-01-2023_A_31-12-2023.CSV\",\n",
    "    r\"C:\\Users\\Keyla Alba\\OneDrive - Universidad del Norte\\Doctorado (Ciencias)\\Move La America\\EDA\\Datos\\INMET_CO_MS_A710_PARANAIBA_01-01-2024_A_31-12-2024.CSV\",\n",
    "    r\"C:\\Users\\Keyla Alba\\OneDrive - Universidad del Norte\\Doctorado (Ciencias)\\Move La America\\EDA\\Datos\\INMET_CO_MS_A710_PARANAIBA_01-01-2025_A_28-02-2025.CSV\"\n",
    "]\n",
    "\n",
    "def load_and_clean(file_path):\n",
    "    df = pd.read_csv(file_path, sep=';', encoding='latin1', skiprows=8)\n",
    "    df.columns = [col.strip().upper() for col in df.columns]\n",
    "    for col in df.columns:\n",
    "        if \"RADIACAO\" in col and \"KJ\" in col:\n",
    "            df.rename(columns={col: \"RADIACAO_GLOBAL\"}, inplace=True)\n",
    "            break\n",
    "    df['HORA UTC'] = df['HORA UTC'].astype(str).str.replace(' UTC', '', regex=False)\n",
    "    df['HORA UTC'] = df['HORA UTC'].str.zfill(4)\n",
    "    df['HORA UTC'] = df['HORA UTC'].str[:2] + ':' + df['HORA UTC'].str[2:4]\n",
    "    df['datetime'] = pd.to_datetime(df['DATA'] + ' ' + df['HORA UTC'], format='%Y/%m/%d %H:%M', errors='coerce')\n",
    "    df['RADIACAO_GLOBAL'] = pd.to_numeric(df['RADIACAO_GLOBAL'], errors='coerce').fillna(0)\n",
    "    return df[['datetime', 'RADIACAO_GLOBAL']]\n",
    "df_INMET = pd.concat([load_and_clean(fp) for fp in file_path], ignore_index=True)\n",
    "print(df_INMET.shape)"
   ]
  },
  {
   "cell_type": "markdown",
   "metadata": {},
   "source": [
    "## **Comportamiento Radiación Solar INMET**"
   ]
  },
  {
   "cell_type": "code",
   "execution_count": null,
   "metadata": {},
   "outputs": [],
   "source": [
    "fig_INMET = px.line(\n",
    "    df_INMET,\n",
    "    x='datetime',\n",
    "    y='RADIACAO_GLOBAL',\n",
    "    title='Radiación Global (KJ/m²) por Hora INMET (2019 a Febrero 2025)',\n",
    "    labels={\n",
    "        'datetime': 'Fecha y Hora',\n",
    "        'RADIACAO_GLOBAL': 'Radiación (KJ/m²)'\n",
    "    }\n",
    ")\n",
    "fig_INMET.update_layout(template='plotly_white', width=1100, height=500)\n",
    "fig_INMET.show()"
   ]
  },
  {
   "cell_type": "markdown",
   "metadata": {},
   "source": [
    "## **Comportamiento Radiación Solar NASA**"
   ]
  },
  {
   "cell_type": "code",
   "execution_count": null,
   "metadata": {},
   "outputs": [],
   "source": [
    "fig_nasa = px.line(\n",
    "    df_NASA,\n",
    "    x='datetime',\n",
    "    y='ALLSKY_SFC_SW_DWN',\n",
    "    title='Radiación Horaria NASA (2019-2025)',\n",
    "    labels={'datetime': 'Fecha y hora', 'ALLSKY_SFC_SW_DWN': 'Radiación (W/m²)'}\n",
    ")\n",
    "fig_nasa.update_layout(template='plotly_white', width=1100, height=500)\n",
    "fig_nasa.show()"
   ]
  }
 ],
 "metadata": {
  "kernelspec": {
   "display_name": "Python 3 (ipykernel)",
   "language": "python",
   "name": "python3"
  },
  "language_info": {
   "codemirror_mode": {
    "name": "ipython",
    "version": 3
   },
   "file_extension": ".py",
   "mimetype": "text/x-python",
   "name": "python",
   "nbconvert_exporter": "python",
   "pygments_lexer": "ipython3",
   "version": "3.9.21"
  }
 },
 "nbformat": 4,
 "nbformat_minor": 4
}
